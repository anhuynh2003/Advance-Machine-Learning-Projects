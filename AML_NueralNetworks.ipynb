{
 "cells": [
  {
   "cell_type": "raw",
   "id": "b5a58be8",
   "metadata": {
    "vscode": {
     "languageId": "raw"
    }
   },
   "source": [
    "---\n",
    "title: “Keras”\n",
    "author: An Huynh\n",
    "format: \n",
    "    html:\n",
    "        toc: true\n",
    "        code-fold: true \n",
    "        code-summary: \"Show code\"\n",
    "embed-resources: true\n",
    "editor: visual\n",
    "execute: \n",
    "    message: false \n",
    "    warning: false\n",
    "theme: flatly \n",
    "---"
   ]
  },
  {
   "cell_type": "code",
   "execution_count": 14,
   "id": "c53d66ff",
   "metadata": {},
   "outputs": [],
   "source": [
    "# ----- Core Python & Visualization ----- #\n",
    "import pandas as pd\n",
    "import numpy as np\n",
    "import matplotlib.pyplot as plt\n",
    "import seaborn as sns\n",
    "\n",
    "# ----- Data Preprocessing ----- #\n",
    "from sklearn.model_selection import train_test_split\n",
    "from sklearn.preprocessing import StandardScaler, OneHotEncoder, LabelEncoder\n",
    "from sklearn.compose import ColumnTransformer\n",
    "from sklearn.impute import SimpleImputer\n",
    "from sklearn.pipeline import Pipeline\n",
    "\n",
    "# ----- Models ----- #\n",
    "from sklearn.linear_model import LogisticRegression\n",
    "from sklearn.tree import DecisionTreeRegressor\n",
    "from sklearn.ensemble import GradientBoostingClassifier, AdaBoostClassifier\n",
    "from xgboost import XGBClassifier\n",
    "\n",
    "# ----- Evaluation Metrics ----- #\n",
    "from sklearn.metrics import r2_score, mean_squared_error, classification_report, confusion_matrix, accuracy_score\n",
    "\n",
    "# ----- Neural Network (Keras) ----- #\n",
    "from tensorflow.keras.models import Sequential\n",
    "from tensorflow.keras.layers import Dense, Dropout\n",
    "from tensorflow.keras.optimizers import Adam, SGD\n",
    "\n",
    "from scikeras.wrappers import KerasClassifier \n"
   ]
  },
  {
   "cell_type": "code",
   "execution_count": 9,
   "id": "ef995937",
   "metadata": {},
   "outputs": [
    {
     "name": "stderr",
     "output_type": "stream",
     "text": [
      "/var/folders/v9/hcdjkhvd5nq6llrn61tfl3qr0000gn/T/ipykernel_59743/602357411.py:3: DtypeWarning: Columns (8,19,20) have mixed types. Specify dtype option on import or set low_memory=False.\n",
      "  df = pd.read_csv(\"/Users/anhuynh/Downloads/archive (8)/cleansingWine.csv\")\n"
     ]
    }
   ],
   "source": [
    "import pandas as pd \n",
    "\n",
    "df = pd.read_csv(\"/Users/anhuynh/Downloads/archive (8)/cleansingWine.csv\")\n"
   ]
  },
  {
   "cell_type": "code",
   "execution_count": 10,
   "id": "1d3a8ab5",
   "metadata": {},
   "outputs": [
    {
     "name": "stdout",
     "output_type": "stream",
     "text": [
      "🧠 Shape of merged data: (21605, 32)\n",
      "\n",
      "📋 Column names:\n",
      " ['Unnamed: 0', 'id', 'name', 'producer', 'nation', 'local1', 'local2', 'local3', 'local4', 'varieties1', 'varieties2', 'varieties3', 'varieties4', 'varieties5', 'varieties6', 'varieties7', 'varieties8', 'varieties9', 'varieties10', 'varieties11', 'varieties12', 'type', 'use', 'abv', 'degree', 'sweet', 'acidity', 'body', 'tannin', 'price', 'year', 'ml']\n",
      "\n",
      "🔎 Data types:\n",
      " Unnamed: 0      int64\n",
      "id              int64\n",
      "name           object\n",
      "producer       object\n",
      "nation         object\n",
      "local1         object\n",
      "local2         object\n",
      "local3         object\n",
      "local4         object\n",
      "varieties1     object\n",
      "varieties2     object\n",
      "varieties3     object\n",
      "varieties4     object\n",
      "varieties5     object\n",
      "varieties6     object\n",
      "varieties7     object\n",
      "varieties8     object\n",
      "varieties9     object\n",
      "varieties10    object\n",
      "varieties11    object\n",
      "varieties12    object\n",
      "type           object\n",
      "use            object\n",
      "abv            object\n",
      "degree         object\n",
      "sweet          object\n",
      "acidity        object\n",
      "body           object\n",
      "tannin         object\n",
      "price           int64\n",
      "year            int64\n",
      "ml              int64\n",
      "dtype: object\n",
      "\n",
      "🧾 First 5 rows:\n",
      "    Unnamed: 0      id                          name      producer  nation  \\\n",
      "0           0  137197                        Altair        Altair   Chile   \n",
      "1           1  137198               Altair, Sideral        Altair   Chile   \n",
      "2           2  137199              Baron du Val Red  Baron du Val  France   \n",
      "3           3  137200            Baron du Val White  Baron du Val  France   \n",
      "4           4  137201  Benziger, Cabernet Sauvignon      Benziger     USA   \n",
      "\n",
      "         local1 local2 local3 local4          varieties1  ...    use    abv  \\\n",
      "0  Rapel Valley    NaN    NaN    NaN  Cabernet Sauvignon  ...  Table  14~15   \n",
      "1  Rapel Valley    NaN    NaN    NaN  Cabernet Sauvignon  ...  Table  14~15   \n",
      "2           NaN    NaN    NaN    NaN            Carignan  ...  Table  11~12   \n",
      "3           NaN    NaN    NaN    NaN            Carignan  ...  Table  11~12   \n",
      "4    California    NaN    NaN    NaN  Cabernet Sauvignon  ...  Table  13~14   \n",
      "\n",
      "  degree   sweet   acidity   body   tannin   price  year   ml  \n",
      "0  17~19  SWEET1  ACIDITY4  BODY5  TANNIN4  220000  2014  750  \n",
      "1  16~18  SWEET1  ACIDITY3  BODY4  TANNIN4  110000  2016  750  \n",
      "2  15~17  SWEET2  ACIDITY3  BODY2  TANNIN2       0     0  750  \n",
      "3   9~11  SWEET1  ACIDITY3  BODY2  TANNIN1       0     0  750  \n",
      "4  17~19  SWEET1  ACIDITY3  BODY3  TANNIN4       0  2003  750  \n",
      "\n",
      "[5 rows x 32 columns]\n",
      "\n",
      "🧹 Missing values per column:\n",
      " Unnamed: 0         0\n",
      "id                 0\n",
      "name               0\n",
      "producer           0\n",
      "nation             2\n",
      "local1           900\n",
      "local2         10460\n",
      "local3         18014\n",
      "local4         21603\n",
      "varieties1       349\n",
      "varieties2     14087\n",
      "varieties3     17577\n",
      "varieties4     20275\n",
      "varieties5     21226\n",
      "varieties6     21500\n",
      "varieties7     21574\n",
      "varieties8     21587\n",
      "varieties9     21598\n",
      "varieties10    21599\n",
      "varieties11    21600\n",
      "varieties12    21601\n",
      "type              58\n",
      "use               14\n",
      "abv             7146\n",
      "degree          7145\n",
      "sweet              2\n",
      "acidity           13\n",
      "body              13\n",
      "tannin            13\n",
      "price              0\n",
      "year               0\n",
      "ml                 0\n",
      "dtype: int64\n",
      "\n",
      "📊 Summary stats (numeric):\n",
      "          Unnamed: 0             id         price          year            ml\n",
      "count  21605.000000   21605.000000  2.160500e+04  21605.000000  21605.000000\n",
      "mean   10802.000000  153998.163666  9.266349e+04   1769.949502    743.899236\n",
      "std     6236.970619    9200.852348  2.521565e+05    654.831502    145.181162\n",
      "min        0.000000  137197.000000  0.000000e+00      0.000000      0.000000\n",
      "25%     5401.000000  146645.000000  0.000000e+00   2006.000000    750.000000\n",
      "50%    10802.000000  153748.000000  3.000000e+04   2012.000000    750.000000\n",
      "75%    16203.000000  162431.000000  8.900000e+04   2016.000000    750.000000\n",
      "max    21604.000000  168707.000000  8.000000e+06   2020.000000   6000.000000\n",
      "\n",
      "🧩 Summary stats (categorical):\n",
      "                    name     producer  nation     local1         local2  \\\n",
      "count             21605        21605   21603      20705          11145   \n",
      "unique            21531         4819      31        209            281   \n",
      "top     Chateau Bel Air  Louis Jadot  France  Bourgogne  Cote de Nuits   \n",
      "freq                  4           84    6949       2493            997   \n",
      "\n",
      "             local3      local4          varieties1 varieties2  \\\n",
      "count          3591           2               21256       7518   \n",
      "unique          161           1                 352        281   \n",
      "top     Napa Valley  Ugni blanc  Cabernet Sauvignon     Merlot   \n",
      "freq            691           2                2816       1221   \n",
      "\n",
      "            varieties3  ... varieties11 varieties12   type    use    abv  \\\n",
      "count             4028  ...           5           4  21547  21591  14459   \n",
      "unique             208  ...           5           4      9     12    184   \n",
      "top     Cabernet Franc  ...      Tannat         Etc    Red  Table   13.5   \n",
      "freq               691  ...           1           1  13853  17907   1825   \n",
      "\n",
      "       degree   sweet   acidity   body   tannin  \n",
      "count   14460   21603     21592  21592    21592  \n",
      "unique     81       5         5      5        5  \n",
      "top     16~18  SWEET1  ACIDITY3  BODY3  TANNIN1  \n",
      "freq     6295   18995     11081   9023     7568  \n",
      "\n",
      "[4 rows x 27 columns]\n",
      "\n",
      "🔢 Unique values per column:\n",
      "  - Unnamed: 0: 21605 unique values\n",
      "  - id: 21605 unique values\n",
      "  - name: 21531 unique values\n",
      "  - producer: 4819 unique values\n",
      "  - nation: 31 unique values\n",
      "  - local1: 209 unique values\n",
      "  - local2: 281 unique values\n",
      "  - local3: 161 unique values\n",
      "  - local4: 1 unique values\n",
      "  - varieties1: 352 unique values\n",
      "  - varieties2: 281 unique values\n",
      "  - varieties3: 208 unique values\n",
      "  - varieties4: 144 unique values\n",
      "  - varieties5: 84 unique values\n",
      "  - varieties6: 46 unique values\n",
      "  - varieties7: 27 unique values\n",
      "  - varieties8: 15 unique values\n",
      "  - varieties9: 7 unique values\n",
      "  - varieties10: 6 unique values\n",
      "  - varieties11: 5 unique values\n",
      "  - varieties12: 4 unique values\n",
      "  - type: 9 unique values\n",
      "  - use: 12 unique values\n",
      "  - abv: 184 unique values\n",
      "  - degree: 81 unique values\n",
      "  - sweet: 5 unique values\n",
      "  - acidity: 5 unique values\n",
      "  - body: 5 unique values\n",
      "  - tannin: 5 unique values\n",
      "  - price: 848 unique values\n",
      "  - year: 44 unique values\n",
      "  - ml: 21 unique values\n",
      "\n",
      "📎 Number of duplicate rows: 0\n",
      "🧮 Total number of missing values in data: 289956\n"
     ]
    }
   ],
   "source": [
    "# Dataset Overview\n",
    "print(\"🧠 Shape of merged data:\", df.shape)\n",
    "\n",
    "# Columns and Data Types\n",
    "print(\"\\n📋 Column names:\\n\", df.columns.tolist())\n",
    "print(\"\\n🔎 Data types:\\n\", df.dtypes)\n",
    "\n",
    "# Preview\n",
    "print(\"\\n🧾 First 5 rows:\\n\", df.head())\n",
    "\n",
    "# Missing Data\n",
    "print(\"\\n🧹 Missing values per column:\\n\", df.isnull().sum())\n",
    "\n",
    "# Descriptive Stats for Numeric Columns\n",
    "print(\"\\n📊 Summary stats (numeric):\\n\", df.describe())\n",
    "\n",
    "# Descriptive Stats for Categorical Columns\n",
    "print(\"\\n🧩 Summary stats (categorical):\\n\", df.describe(include=['object', 'category']))\n",
    "\n",
    "# Unique Values Per Column\n",
    "print(\"\\n🔢 Unique values per column:\")\n",
    "for col in data.columns:\n",
    "    print(f\"  - {col}: {data[col].nunique()} unique values\")\n",
    "\n",
    "# Duplicate Check\n",
    "print(\"\\n📎 Number of duplicate rows:\", df.duplicated().sum())\n",
    "\n",
    "# Total number of missing values\n",
    "total_na = df.isna().sum().sum()\n",
    "print(\"🧮 Total number of missing values in data:\", total_na)"
   ]
  },
  {
   "cell_type": "code",
   "execution_count": null,
   "id": "9bd104e4",
   "metadata": {},
   "outputs": [],
   "source": [
    "# Drop unnecessary columns if they exist\n",
    "columns_to_drop = ['Unnamed: 0', 'id', 'producer', 'local1', 'local2', 'local3', 'local4', 'name']\n",
    "df.drop(columns=[col for col in columns_to_drop if col in df.columns], inplace=True)\n",
    "\n",
    "# Remove rows with missing or non-positive price\n",
    "df = df[df['price'].notnull() & (df['price'] > 0)]\n",
    "\n",
    "# Convert sensory columns to numeric by extracting the first digit\n",
    "sensory_cols = ['sweet', 'acidity', 'body', 'tannin']\n",
    "for col in sensory_cols:\n",
    "    if col in df.columns:\n",
    "        df[col] = df[col].astype(str).str.extract(r'(\\d)').astype(float)\n",
    "\n",
    "# Convert ranges like \"14~15\" to average values\n",
    "def average_range(val):\n",
    "    try: \n",
    "        nums = list(map(float, str(val).split('~')))\n",
    "        return sum(nums) / len(nums)\n",
    "    except:\n",
    "        return np.nan\n",
    "\n",
    "for col in ['abv', 'degree']:\n",
    "    if col in df.columns:\n",
    "        df[col] = df[col].apply(average_range)\n",
    "\n",
    "# Drop rows with missing critical fields, then fill remaining missing values with 0\n",
    "df.dropna(subset=['varieties1', 'nation', 'price'], inplace=True)\n",
    "df.fillna(0, inplace=True)\n"
   ]
  },
  {
   "cell_type": "code",
   "execution_count": null,
   "id": "379f9df5",
   "metadata": {},
   "outputs": [],
   "source": [
    "# Define target\n",
    "y = df['nation']\n",
    "# Drop target from features\n",
    "X = df.drop(columns=['nation'])\n",
    "\n",
    "y = pd.get_dummies(y, columns=['nation']) \n",
    "\n",
    "# One-hot encode categorical features\n",
    "X_encoded = pd.get_dummies(X, columns=['varieties1', 'use', 'type', 'varieties2', 'varieties3', 'varieties4', 'varieties5', 'varieties6', 'varieties7', 'varieties8', 'varieties9', 'varieties10', 'varieties11', 'varieties12'])\n",
    "\n",
    "# Normalize numeric features\n",
    "from sklearn.preprocessing import StandardScaler\n",
    "scaler = StandardScaler()\n",
    "X_scaled = scaler.fit_transform(X_encoded)\n",
    "\n",
    "# Split data\n",
    "from sklearn.model_selection import train_test_split\n",
    "X_train, X_test, y_train, y_test = train_test_split(X_scaled, y, test_size=0.2, random_state=42)"
   ]
  },
  {
   "cell_type": "code",
   "execution_count": 16,
   "id": "4c4965b3",
   "metadata": {},
   "outputs": [
    {
     "name": "stderr",
     "output_type": "stream",
     "text": [
      "/opt/anaconda3/lib/python3.12/site-packages/keras/src/layers/core/dense.py:87: UserWarning: Do not pass an `input_shape`/`input_dim` argument to a layer. When using Sequential models, prefer using an `Input(shape)` object as the first layer in the model instead.\n",
      "  super().__init__(activity_regularizer=activity_regularizer, **kwargs)\n"
     ]
    },
    {
     "data": {
      "text/html": [
       "<pre style=\"white-space:pre;overflow-x:auto;line-height:normal;font-family:Menlo,'DejaVu Sans Mono',consolas,'Courier New',monospace\"><span style=\"font-weight: bold\">Model: \"sequential\"</span>\n",
       "</pre>\n"
      ],
      "text/plain": [
       "\u001b[1mModel: \"sequential\"\u001b[0m\n"
      ]
     },
     "metadata": {},
     "output_type": "display_data"
    },
    {
     "data": {
      "text/html": [
       "<pre style=\"white-space:pre;overflow-x:auto;line-height:normal;font-family:Menlo,'DejaVu Sans Mono',consolas,'Courier New',monospace\">┏━━━━━━━━━━━━━━━━━━━━━━━━━━━━━━━━━┳━━━━━━━━━━━━━━━━━━━━━━━━┳━━━━━━━━━━━━━━━┓\n",
       "┃<span style=\"font-weight: bold\"> Layer (type)                    </span>┃<span style=\"font-weight: bold\"> Output Shape           </span>┃<span style=\"font-weight: bold\">       Param # </span>┃\n",
       "┡━━━━━━━━━━━━━━━━━━━━━━━━━━━━━━━━━╇━━━━━━━━━━━━━━━━━━━━━━━━╇━━━━━━━━━━━━━━━┩\n",
       "│ dense (<span style=\"color: #0087ff; text-decoration-color: #0087ff\">Dense</span>)                   │ (<span style=\"color: #00d7ff; text-decoration-color: #00d7ff\">None</span>, <span style=\"color: #00af00; text-decoration-color: #00af00\">128</span>)            │       <span style=\"color: #00af00; text-decoration-color: #00af00\">124,800</span> │\n",
       "├─────────────────────────────────┼────────────────────────┼───────────────┤\n",
       "│ dense_1 (<span style=\"color: #0087ff; text-decoration-color: #0087ff\">Dense</span>)                 │ (<span style=\"color: #00d7ff; text-decoration-color: #00d7ff\">None</span>, <span style=\"color: #00af00; text-decoration-color: #00af00\">64</span>)             │         <span style=\"color: #00af00; text-decoration-color: #00af00\">8,256</span> │\n",
       "├─────────────────────────────────┼────────────────────────┼───────────────┤\n",
       "│ dense_2 (<span style=\"color: #0087ff; text-decoration-color: #0087ff\">Dense</span>)                 │ (<span style=\"color: #00d7ff; text-decoration-color: #00d7ff\">None</span>, <span style=\"color: #00af00; text-decoration-color: #00af00\">28</span>)             │         <span style=\"color: #00af00; text-decoration-color: #00af00\">1,820</span> │\n",
       "└─────────────────────────────────┴────────────────────────┴───────────────┘\n",
       "</pre>\n"
      ],
      "text/plain": [
       "┏━━━━━━━━━━━━━━━━━━━━━━━━━━━━━━━━━┳━━━━━━━━━━━━━━━━━━━━━━━━┳━━━━━━━━━━━━━━━┓\n",
       "┃\u001b[1m \u001b[0m\u001b[1mLayer (type)                   \u001b[0m\u001b[1m \u001b[0m┃\u001b[1m \u001b[0m\u001b[1mOutput Shape          \u001b[0m\u001b[1m \u001b[0m┃\u001b[1m \u001b[0m\u001b[1m      Param #\u001b[0m\u001b[1m \u001b[0m┃\n",
       "┡━━━━━━━━━━━━━━━━━━━━━━━━━━━━━━━━━╇━━━━━━━━━━━━━━━━━━━━━━━━╇━━━━━━━━━━━━━━━┩\n",
       "│ dense (\u001b[38;5;33mDense\u001b[0m)                   │ (\u001b[38;5;45mNone\u001b[0m, \u001b[38;5;34m128\u001b[0m)            │       \u001b[38;5;34m124,800\u001b[0m │\n",
       "├─────────────────────────────────┼────────────────────────┼───────────────┤\n",
       "│ dense_1 (\u001b[38;5;33mDense\u001b[0m)                 │ (\u001b[38;5;45mNone\u001b[0m, \u001b[38;5;34m64\u001b[0m)             │         \u001b[38;5;34m8,256\u001b[0m │\n",
       "├─────────────────────────────────┼────────────────────────┼───────────────┤\n",
       "│ dense_2 (\u001b[38;5;33mDense\u001b[0m)                 │ (\u001b[38;5;45mNone\u001b[0m, \u001b[38;5;34m28\u001b[0m)             │         \u001b[38;5;34m1,820\u001b[0m │\n",
       "└─────────────────────────────────┴────────────────────────┴───────────────┘\n"
      ]
     },
     "metadata": {},
     "output_type": "display_data"
    },
    {
     "data": {
      "text/html": [
       "<pre style=\"white-space:pre;overflow-x:auto;line-height:normal;font-family:Menlo,'DejaVu Sans Mono',consolas,'Courier New',monospace\"><span style=\"font-weight: bold\"> Total params: </span><span style=\"color: #00af00; text-decoration-color: #00af00\">134,876</span> (526.86 KB)\n",
       "</pre>\n"
      ],
      "text/plain": [
       "\u001b[1m Total params: \u001b[0m\u001b[38;5;34m134,876\u001b[0m (526.86 KB)\n"
      ]
     },
     "metadata": {},
     "output_type": "display_data"
    },
    {
     "data": {
      "text/html": [
       "<pre style=\"white-space:pre;overflow-x:auto;line-height:normal;font-family:Menlo,'DejaVu Sans Mono',consolas,'Courier New',monospace\"><span style=\"font-weight: bold\"> Trainable params: </span><span style=\"color: #00af00; text-decoration-color: #00af00\">134,876</span> (526.86 KB)\n",
       "</pre>\n"
      ],
      "text/plain": [
       "\u001b[1m Trainable params: \u001b[0m\u001b[38;5;34m134,876\u001b[0m (526.86 KB)\n"
      ]
     },
     "metadata": {},
     "output_type": "display_data"
    },
    {
     "data": {
      "text/html": [
       "<pre style=\"white-space:pre;overflow-x:auto;line-height:normal;font-family:Menlo,'DejaVu Sans Mono',consolas,'Courier New',monospace\"><span style=\"font-weight: bold\"> Non-trainable params: </span><span style=\"color: #00af00; text-decoration-color: #00af00\">0</span> (0.00 B)\n",
       "</pre>\n"
      ],
      "text/plain": [
       "\u001b[1m Non-trainable params: \u001b[0m\u001b[38;5;34m0\u001b[0m (0.00 B)\n"
      ]
     },
     "metadata": {},
     "output_type": "display_data"
    }
   ],
   "source": [
    "from tensorflow.keras.models import Sequential\n",
    "from tensorflow.keras.layers import Dense\n",
    "from tensorflow.keras.optimizers import Adam\n",
    "from tensorflow.keras.utils import plot_model\n",
    "\n",
    "# Define the model\n",
    "model = Sequential([\n",
    "    Dense(128, activation='relu', input_shape=(X_train.shape[1],)),  # Input layer\n",
    "    Dense(64, activation='relu'),  # Hidden layer\n",
    "    Dense(y_train.shape[1], activation='softmax')  # Output layer (multiclass classification)\n",
    "])\n",
    "\n",
    "# Compile the model\n",
    "model.compile(optimizer=Adam(learning_rate=0.001),  # Optimizer with learning rate\n",
    "              loss='categorical_crossentropy',  # Loss function for multiclass classification\n",
    "              metrics=['accuracy'])  # Metrics to monitor\n",
    "\n",
    "# Print the model summary to visualize architecture\n",
    "model.summary()"
   ]
  },
  {
   "cell_type": "code",
   "execution_count": null,
   "id": "53435754",
   "metadata": {},
   "outputs": [
    {
     "name": "stdout",
     "output_type": "stream",
     "text": [
      "Epoch 1/10\n",
      "\u001b[1m309/309\u001b[0m \u001b[32m━━━━━━━━━━━━━━━━━━━━\u001b[0m\u001b[37m\u001b[0m \u001b[1m2s\u001b[0m 3ms/step - accuracy: 0.4759 - loss: 1.9303 - val_accuracy: 0.6818 - val_loss: 1.0752\n",
      "Epoch 2/10\n",
      "\u001b[1m309/309\u001b[0m \u001b[32m━━━━━━━━━━━━━━━━━━━━\u001b[0m\u001b[37m\u001b[0m \u001b[1m1s\u001b[0m 2ms/step - accuracy: 0.7145 - loss: 0.9049 - val_accuracy: 0.6862 - val_loss: 1.0264\n",
      "Epoch 3/10\n",
      "\u001b[1m309/309\u001b[0m \u001b[32m━━━━━━━━━━━━━━━━━━━━\u001b[0m\u001b[37m\u001b[0m \u001b[1m1s\u001b[0m 2ms/step - accuracy: 0.7328 - loss: 0.8211 - val_accuracy: 0.6972 - val_loss: 1.0130\n",
      "Epoch 4/10\n",
      "\u001b[1m309/309\u001b[0m \u001b[32m━━━━━━━━━━━━━━━━━━━━\u001b[0m\u001b[37m\u001b[0m \u001b[1m1s\u001b[0m 2ms/step - accuracy: 0.7480 - loss: 0.7682 - val_accuracy: 0.6964 - val_loss: 1.0204\n",
      "Epoch 5/10\n",
      "\u001b[1m309/309\u001b[0m \u001b[32m━━━━━━━━━━━━━━━━━━━━\u001b[0m\u001b[37m\u001b[0m \u001b[1m1s\u001b[0m 2ms/step - accuracy: 0.7560 - loss: 0.7474 - val_accuracy: 0.7065 - val_loss: 1.0198\n",
      "Epoch 6/10\n",
      "\u001b[1m309/309\u001b[0m \u001b[32m━━━━━━━━━━━━━━━━━━━━\u001b[0m\u001b[37m\u001b[0m \u001b[1m1s\u001b[0m 2ms/step - accuracy: 0.7565 - loss: 0.7206 - val_accuracy: 0.7057 - val_loss: 1.0405\n",
      "Epoch 7/10\n",
      "\u001b[1m309/309\u001b[0m \u001b[32m━━━━━━━━━━━━━━━━━━━━\u001b[0m\u001b[37m\u001b[0m \u001b[1m1s\u001b[0m 2ms/step - accuracy: 0.7626 - loss: 0.7244 - val_accuracy: 0.7069 - val_loss: 1.0475\n",
      "Epoch 8/10\n",
      "\u001b[1m309/309\u001b[0m \u001b[32m━━━━━━━━━━━━━━━━━━━━\u001b[0m\u001b[37m\u001b[0m \u001b[1m1s\u001b[0m 2ms/step - accuracy: 0.7694 - loss: 0.6966 - val_accuracy: 0.7053 - val_loss: 1.0612\n",
      "Epoch 9/10\n",
      "\u001b[1m309/309\u001b[0m \u001b[32m━━━━━━━━━━━━━━━━━━━━\u001b[0m\u001b[37m\u001b[0m \u001b[1m1s\u001b[0m 2ms/step - accuracy: 0.7666 - loss: 0.6994 - val_accuracy: 0.7004 - val_loss: 1.0819\n",
      "Epoch 10/10\n",
      "\u001b[1m309/309\u001b[0m \u001b[32m━━━━━━━━━━━━━━━━━━━━\u001b[0m\u001b[37m\u001b[0m \u001b[1m1s\u001b[0m 2ms/step - accuracy: 0.7719 - loss: 0.6749 - val_accuracy: 0.7040 - val_loss: 1.1030\n",
      "\u001b[1m78/78\u001b[0m \u001b[32m━━━━━━━━━━━━━━━━━━━━\u001b[0m\u001b[37m\u001b[0m \u001b[1m0s\u001b[0m 1ms/step - accuracy: 0.7020 - loss: 1.0724  \n",
      "Test Loss: 1.103041648864746\n",
      "Test Accuracy: 0.7040485739707947\n"
     ]
    }
   ],
   "source": [
    "history = model.fit(X_train, y_train, epochs=10, batch_size=32, validation_data=(X_test, y_test))\n",
    "\n",
    "# Evaluate the model on the test data\n",
    "test_loss, test_accuracy = model.evaluate(X_test, y_test)\n",
    "\n",
    "print(f\"Test Loss: {test_loss}\")\n",
    "print(f\"Test Accuracy: {test_accuracy}\") "
   ]
  }
 ],
 "metadata": {
  "kernelspec": {
   "display_name": "base",
   "language": "python",
   "name": "python3"
  },
  "language_info": {
   "codemirror_mode": {
    "name": "ipython",
    "version": 3
   },
   "file_extension": ".py",
   "mimetype": "text/x-python",
   "name": "python",
   "nbconvert_exporter": "python",
   "pygments_lexer": "ipython3",
   "version": "3.12.4"
  }
 },
 "nbformat": 4,
 "nbformat_minor": 5
}
